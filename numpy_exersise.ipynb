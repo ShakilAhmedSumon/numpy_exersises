{
  "nbformat": 4,
  "nbformat_minor": 0,
  "metadata": {
    "colab": {
      "name": "numpy_exersise.ipynb",
      "provenance": [],
      "authorship_tag": "ABX9TyPO/b5cLV8qrunBsLPtWNyp",
      "include_colab_link": true
    },
    "kernelspec": {
      "name": "python3",
      "display_name": "Python 3"
    },
    "language_info": {
      "name": "python"
    }
  },
  "cells": [
    {
      "cell_type": "markdown",
      "metadata": {
        "id": "view-in-github",
        "colab_type": "text"
      },
      "source": [
        "<a href=\"https://colab.research.google.com/github/ShakilAhmedSumon/numpy_exersises/blob/main/numpy_exersise.ipynb\" target=\"_parent\"><img src=\"https://colab.research.google.com/assets/colab-badge.svg\" alt=\"Open In Colab\"/></a>"
      ]
    },
    {
      "cell_type": "code",
      "execution_count": 1,
      "metadata": {
        "id": "B5pYkuyitBLj"
      },
      "outputs": [],
      "source": [
        "import numpy as np"
      ]
    },
    {
      "cell_type": "code",
      "source": [
        "np_array = np.array([[0,1,2], [3,4,5], [6,7,8]])"
      ],
      "metadata": {
        "id": "MEso9iZFtHxR"
      },
      "execution_count": 2,
      "outputs": []
    },
    {
      "cell_type": "code",
      "source": [
        "np_array"
      ],
      "metadata": {
        "colab": {
          "base_uri": "https://localhost:8080/"
        },
        "id": "t_BjKuMYtXR7",
        "outputId": "cd6b79f8-e188-4439-c82f-69662b16e75d"
      },
      "execution_count": 3,
      "outputs": [
        {
          "output_type": "execute_result",
          "data": {
            "text/plain": [
              "array([[0, 1, 2],\n",
              "       [3, 4, 5],\n",
              "       [6, 7, 8]])"
            ]
          },
          "metadata": {},
          "execution_count": 3
        }
      ]
    },
    {
      "cell_type": "markdown",
      "source": [
        "Numpy Slicing "
      ],
      "metadata": {
        "id": "HdYs-SdUtjF0"
      }
    },
    {
      "cell_type": "code",
      "source": [
        "middle_slice = np_array[1::3]"
      ],
      "metadata": {
        "id": "3cNZAcRotY7S"
      },
      "execution_count": 4,
      "outputs": []
    },
    {
      "cell_type": "code",
      "source": [
        "middle_slice"
      ],
      "metadata": {
        "colab": {
          "base_uri": "https://localhost:8080/"
        },
        "id": "WyYA9MeEttE4",
        "outputId": "82241cf4-d6cc-476a-ae7f-d55e690b87d8"
      },
      "execution_count": 5,
      "outputs": [
        {
          "output_type": "execute_result",
          "data": {
            "text/plain": [
              "array([[3, 4, 5]])"
            ]
          },
          "metadata": {},
          "execution_count": 5
        }
      ]
    },
    {
      "cell_type": "code",
      "source": [
        "first_slice = np_array[:1:3]\n",
        "first_slice"
      ],
      "metadata": {
        "id": "a-pUFx_U3pAo",
        "outputId": "4303ce18-f8d6-4958-d20c-8183a1ca8979",
        "colab": {
          "base_uri": "https://localhost:8080/"
        }
      },
      "execution_count": 22,
      "outputs": [
        {
          "output_type": "execute_result",
          "data": {
            "text/plain": [
              "array([[0, 1, 2]])"
            ]
          },
          "metadata": {},
          "execution_count": 22
        }
      ]
    },
    {
      "cell_type": "code",
      "source": [
        "last_slice = np_array[2::3]\n",
        "last_slice"
      ],
      "metadata": {
        "id": "M5i_QlRA4cHY",
        "outputId": "239ef814-c6d7-4571-ace0-847848b5f385",
        "colab": {
          "base_uri": "https://localhost:8080/"
        }
      },
      "execution_count": 24,
      "outputs": [
        {
          "output_type": "execute_result",
          "data": {
            "text/plain": [
              "array([[6, 7, 8]])"
            ]
          },
          "metadata": {},
          "execution_count": 24
        }
      ]
    },
    {
      "cell_type": "code",
      "source": [
        "# slicing with (...)"
      ],
      "metadata": {
        "id": "oghzr1Y34Pvv"
      },
      "execution_count": 23,
      "outputs": []
    },
    {
      "cell_type": "code",
      "source": [
        "first_slice = np_array[0,...]\n",
        "first_slice"
      ],
      "metadata": {
        "colab": {
          "base_uri": "https://localhost:8080/"
        },
        "id": "Z--qOfX8tu8F",
        "outputId": "2ab2d741-a257-4739-8dd7-2d452a70bffb"
      },
      "execution_count": 15,
      "outputs": [
        {
          "output_type": "execute_result",
          "data": {
            "text/plain": [
              "array([0, 1, 2])"
            ]
          },
          "metadata": {},
          "execution_count": 15
        }
      ]
    },
    {
      "cell_type": "code",
      "source": [
        "last_slice = np_array[2,...]\n",
        "last_slice"
      ],
      "metadata": {
        "colab": {
          "base_uri": "https://localhost:8080/"
        },
        "id": "OGLvVCO7uDLR",
        "outputId": "6b2cce56-5a30-4765-add6-444c9a3fc2be"
      },
      "execution_count": 18,
      "outputs": [
        {
          "output_type": "execute_result",
          "data": {
            "text/plain": [
              "array([6, 7, 8])"
            ]
          },
          "metadata": {},
          "execution_count": 18
        }
      ]
    },
    {
      "cell_type": "markdown",
      "source": [
        "Column wise slicing"
      ],
      "metadata": {
        "id": "f0yJtNVS0iL6"
      }
    },
    {
      "cell_type": "code",
      "source": [
        "first_column = np_array[...,0]\n",
        "first_column"
      ],
      "metadata": {
        "colab": {
          "base_uri": "https://localhost:8080/"
        },
        "id": "ZCAPPkPjuFJm",
        "outputId": "ffac02f7-437c-4527-c2f8-33d73d6f7877"
      },
      "execution_count": 19,
      "outputs": [
        {
          "output_type": "execute_result",
          "data": {
            "text/plain": [
              "array([0, 3, 6])"
            ]
          },
          "metadata": {},
          "execution_count": 19
        }
      ]
    },
    {
      "cell_type": "code",
      "source": [
        "second_column = np_array[...,1]\n",
        "second_column"
      ],
      "metadata": {
        "colab": {
          "base_uri": "https://localhost:8080/"
        },
        "id": "nTQXeIFO0vDt",
        "outputId": "8f79cada-bc88-4b22-9807-64ffad527c58"
      },
      "execution_count": 20,
      "outputs": [
        {
          "output_type": "execute_result",
          "data": {
            "text/plain": [
              "array([1, 4, 7])"
            ]
          },
          "metadata": {},
          "execution_count": 20
        }
      ]
    },
    {
      "cell_type": "code",
      "source": [
        "third_column = np_array[...,2]\n",
        "third_column"
      ],
      "metadata": {
        "colab": {
          "base_uri": "https://localhost:8080/"
        },
        "id": "H8H1WqAK03Ep",
        "outputId": "99a1c681-48ec-409d-b79a-2879e33ef328"
      },
      "execution_count": 21,
      "outputs": [
        {
          "output_type": "execute_result",
          "data": {
            "text/plain": [
              "array([2, 5, 8])"
            ]
          },
          "metadata": {},
          "execution_count": 21
        }
      ]
    },
    {
      "cell_type": "code",
      "source": [
        ""
      ],
      "metadata": {
        "id": "iW9ULruY0_3D"
      },
      "execution_count": null,
      "outputs": []
    }
  ]
}